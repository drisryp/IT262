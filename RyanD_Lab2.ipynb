{
  "nbformat": 4,
  "nbformat_minor": 0,
  "metadata": {
    "colab": {
      "name": "RyanD_Lab2.ipynb",
      "provenance": [],
      "mount_file_id": "13n-rM1_SBN_7161DDPv9pVNs6GO1zhGE",
      "authorship_tag": "ABX9TyNogaJbNqEetVA2sLp2ziiP",
      "include_colab_link": true
    },
    "kernelspec": {
      "name": "python3",
      "display_name": "Python 3"
    },
    "language_info": {
      "name": "python"
    }
  },
  "cells": [
    {
      "cell_type": "markdown",
      "metadata": {
        "id": "view-in-github",
        "colab_type": "text"
      },
      "source": [
        "<a href=\"https://colab.research.google.com/github/drisryp/IT262/blob/main/RyanD_Lab2.ipynb\" target=\"_parent\"><img src=\"https://colab.research.google.com/assets/colab-badge.svg\" alt=\"Open In Colab\"/></a>"
      ]
    },
    {
      "cell_type": "code",
      "source": [
        "import pandas as pd\n",
        "import math\n",
        "#reading data into pandas dataframe\n",
        "\n",
        "dataT=pd.read_csv('/content/drive/MyDrive/262-CBA.csv')\n",
        "print(dataT)"
      ],
      "metadata": {
        "colab": {
          "base_uri": "https://localhost:8080/"
        },
        "id": "_Lra_EOau2ce",
        "outputId": "2dcfd0a0-c7f6-4b4f-f7e8-1d63700fabf6"
      },
      "execution_count": 38,
      "outputs": [
        {
          "output_type": "stream",
          "name": "stdout",
          "text": [
            "   years  developmentCost  operationalCost  valueOfBenefits\n",
            "0      0             -100                0                0\n",
            "1      1              -30              -10               25\n",
            "2      2                0              -15               55\n",
            "3      3                0              -15               85\n"
          ]
        }
      ]
    },
    {
      "cell_type": "code",
      "source": [
        "discountRate=0.15\n",
        "discountFactor=[0,0,0,0]\n",
        "for year in dataT['years']:\n",
        "  discountFactor[year]=1/math.pow((1+discountRate),year)\n",
        "\n",
        "dataT['discountFactor']=[round(num, 2) for num in discountFactor] #rounds each of the numbers in discountFactor to 2 decimal places\n",
        "print(dataT)"
      ],
      "metadata": {
        "colab": {
          "base_uri": "https://localhost:8080/"
        },
        "id": "wjvSao5pugYQ",
        "outputId": "20664340-f662-4743-8a41-38c675e2046f"
      },
      "execution_count": 39,
      "outputs": [
        {
          "output_type": "stream",
          "name": "stdout",
          "text": [
            "   years  developmentCost  operationalCost  valueOfBenefits  discountFactor\n",
            "0      0             -100                0                0            1.00\n",
            "1      1              -30              -10               25            0.87\n",
            "2      2                0              -15               55            0.76\n",
            "3      3                0              -15               85            0.66\n"
          ]
        }
      ]
    },
    {
      "cell_type": "code",
      "source": [
        "#calc net benefit/cost for each\n",
        "NetBC = [0,0,0,0]\n",
        "for year in dataT['years']:\n",
        "  NetBC[year]=dataT['developmentCost'][year]+dataT['operationalCost'][year]+dataT['valueOfBenefits'][year]\n",
        "\n",
        "dataT['NetBC']=NetBC\n",
        "print(dataT)"
      ],
      "metadata": {
        "colab": {
          "base_uri": "https://localhost:8080/"
        },
        "id": "oazCa8TlulS7",
        "outputId": "55f81d0f-df9c-4f91-dbb8-71e96b8f983a"
      },
      "execution_count": 40,
      "outputs": [
        {
          "output_type": "stream",
          "name": "stdout",
          "text": [
            "   years  developmentCost  ...  discountFactor  NetBC\n",
            "0      0             -100  ...            1.00   -100\n",
            "1      1              -30  ...            0.87    -15\n",
            "2      2                0  ...            0.76     40\n",
            "3      3                0  ...            0.66     70\n",
            "\n",
            "[4 rows x 6 columns]\n"
          ]
        }
      ]
    },
    {
      "cell_type": "code",
      "source": [
        "#calc net present value\n",
        "NPV=[0,0,0,0]\n",
        "\n",
        "for year in dataT['years']:\n",
        "  NPV[year]=dataT['NetBC'][year]*dataT['discountFactor'][year]\n",
        "\n",
        "dataT['NPV']=[round(num, 2) for num in NPV]\n",
        "print(dataT)  "
      ],
      "metadata": {
        "colab": {
          "base_uri": "https://localhost:8080/"
        },
        "id": "pqv8eN9WupAq",
        "outputId": "b8d5d1c0-f2f6-49e9-bfc1-7edc7eb1107e"
      },
      "execution_count": 41,
      "outputs": [
        {
          "output_type": "stream",
          "name": "stdout",
          "text": [
            "   years  developmentCost  operationalCost  ...  discountFactor  NetBC     NPV\n",
            "0      0             -100                0  ...            1.00   -100 -100.00\n",
            "1      1              -30              -10  ...            0.87    -15  -13.05\n",
            "2      2                0              -15  ...            0.76     40   30.40\n",
            "3      3                0              -15  ...            0.66     70   46.20\n",
            "\n",
            "[4 rows x 7 columns]\n"
          ]
        }
      ]
    },
    {
      "cell_type": "code",
      "source": [
        "#my stuff\n",
        "number=[0,0,0,0] #initialize a blank array starting with 0s\n",
        "for year in dataT['years']: #loop through all the years\n",
        "  number[year]=discountRate+5+year # for each year at the given index do the formula and update the number\n",
        "\n",
        "dataT['number']= number #add/controls the numbers in the chart, given an array of the same size\n",
        "print(dataT)"
      ],
      "metadata": {
        "colab": {
          "base_uri": "https://localhost:8080/"
        },
        "id": "40M2r7MvutMX",
        "outputId": "4632b552-1ee0-4f14-ec9c-7b0636e40821"
      },
      "execution_count": 42,
      "outputs": [
        {
          "output_type": "stream",
          "name": "stdout",
          "text": [
            "   years  developmentCost  operationalCost  ...  NetBC     NPV  number\n",
            "0      0             -100                0  ...   -100 -100.00    5.15\n",
            "1      1              -30              -10  ...    -15  -13.05    6.15\n",
            "2      2                0              -15  ...     40   30.40    7.15\n",
            "3      3                0              -15  ...     70   46.20    8.15\n",
            "\n",
            "[4 rows x 8 columns]\n"
          ]
        }
      ]
    },
    {
      "cell_type": "code",
      "source": [
        "'''\n",
        "import pandas as pd\n",
        "import math\n",
        "#reading data into pandas dataframe\n",
        "\n",
        "dataT=pd.read_csv('/content/drive/MyDrive/262-CBA.csv')\n",
        "print(dataT)\n",
        "\n",
        "\n",
        "discountRate=0.05\n",
        "discountFactor=[0,0,0,0]\n",
        "for year in dataT['years']:\n",
        "  discountFactor[year]=1/math.pow((1+discountRate),year)\n",
        "\n",
        "dataT['discountFactor']=[round(num, 2) for num in discountFactor]\n",
        "print(dataT)\n",
        "\n",
        "#my stuff\n",
        "number=[0,0,0,0] #initialize a blank array starting with 0s\n",
        "for year in dataT['years']: #loop through all the years\n",
        "  number[year]=discountRate+5+year # for each year at the given index do the formula and update the number\n",
        "\n",
        "dataT['number']= number #add/controls the numbers in the chart, given an array of the same size\n",
        "print(dataT)\n",
        "\n",
        "\n",
        "#calc net benefit/cost for each\n",
        "NetBC = [0,0,0,0]\n",
        "for year in dataT['years']:\n",
        "  NetBC[year]=dataT['developmentCost'][year]+dataT['operationalCost'][year]+dataT['valueOfBenefits'][year]\n",
        "\n",
        "dataT['NetBC']=NetBC\n",
        "print(dataT)\n",
        "\n",
        "#calc net present value\n",
        "NPV=[0,0,0,0]\n",
        "\n",
        "for year in dataT['years']:\n",
        "  NPV[year]=dataT['NetBC'][year]*dataT['discountFactor'][year]\n",
        "\n",
        "dataT['NPV']=[round(num, 2) for num in NPV]\n",
        "print(dataT)  \n",
        "'''"
      ],
      "metadata": {
        "colab": {
          "base_uri": "https://localhost:8080/",
          "height": 192
        },
        "id": "mkRoZcJKnkbS",
        "outputId": "a9e994ac-26b5-41a1-8eec-f310d109ef64"
      },
      "execution_count": 37,
      "outputs": [
        {
          "output_type": "stream",
          "name": "stdout",
          "text": [
            "   years  developmentCost  operationalCost  valueOfBenefits\n",
            "0      0             -100                0                0\n",
            "1      1              -30              -10               25\n",
            "2      2                0              -15               55\n",
            "3      3                0              -15               85\n"
          ]
        },
        {
          "output_type": "execute_result",
          "data": {
            "application/vnd.google.colaboratory.intrinsic+json": {
              "type": "string"
            },
            "text/plain": [
              "\"\\ndiscountRate=0.05\\ndiscountFactor=[0,0,0,0]\\nfor year in dataT['years']:\\n  discountFactor[year]=1/math.pow((1+discountRate),year)\\n\\ndataT['discountFactor']=[round(num, 2) for num in discountFactor]\\nprint(dataT)\\n\\n#my stuff\\nnumber=[0,0,0,0] #initialize a blank array starting with 0s\\nfor year in dataT['years']: #loop through all the years\\n  number[year]=discountRate+5+year # for each year at the given index do the formula and update the number\\n\\ndataT['number']= number #add/controls the numbers in the chart, given an array of the same size\\nprint(dataT)\\n\\n\\n#calc net benefit/cost for each\\nNetBC = [0,0,0,0]\\nfor year in dataT['years']:\\n  NetBC[year]=dataT['developmentCost'][year]+dataT['operationalCost'][year]+dataT['valueOfBenefits'][year]\\n\\ndataT['NetBC']=NetBC\\nprint(dataT)\\n\\n#calc net present value\\nNPV=[0,0,0,0]\\n\\nfor year in dataT['years']:\\n  NPV[year]=dataT['NetBC'][year]*dataT['discountFactor'][year]\\n\\ndataT['NPV']=[round(num, 2) for num in NPV]\\nprint(dataT)  \\n\""
            ]
          },
          "metadata": {},
          "execution_count": 37
        }
      ]
    }
  ]
}