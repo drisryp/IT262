{
  "nbformat": 4,
  "nbformat_minor": 0,
  "metadata": {
    "colab": {
      "name": "BernardoACameronKAliceSRyanDCBA.ipynb",
      "provenance": [],
      "include_colab_link": true
    },
    "kernelspec": {
      "name": "python3",
      "display_name": "Python 3"
    },
    "language_info": {
      "name": "python"
    }
  },
  "cells": [
    {
      "cell_type": "markdown",
      "metadata": {
        "id": "view-in-github",
        "colab_type": "text"
      },
      "source": [
        "<a href=\"https://colab.research.google.com/github/drisryp/IT262/blob/main/BernardoACameronKAliceSRyanDCBA.ipynb\" target=\"_parent\"><img src=\"https://colab.research.google.com/assets/colab-badge.svg\" alt=\"Open In Colab\"/></a>"
      ]
    },
    {
      "cell_type": "code",
      "source": [
        "import pandas as pd\n",
        "import math\n",
        "#reading data into pandas dataframe\n",
        "\n",
        "dataT=pd.read_csv('/content/drive/MyDrive/262 Amazon.csv')\n",
        "print(dataT)\n",
        "#inhouse\n",
        "dataI=pd.read_csv('/content/drive/MyDrive/262 Inhouse.csv')\n",
        "print(dataI)"
      ],
      "metadata": {
        "colab": {
          "base_uri": "https://localhost:8080/"
        },
        "id": "_Lra_EOau2ce",
        "outputId": "d435c2e4-a781-416b-fe6a-bc7b211fe280"
      },
      "execution_count": 8,
      "outputs": [
        {
          "output_type": "stream",
          "name": "stdout",
          "text": [
            "   years  developmentCost  operationalCost  valueOfBenefits\n",
            "0      0              -50             -0.5                0\n",
            "1      1                0             -0.5               10\n",
            "2      2                0             -0.5               10\n",
            "3      3                0             -0.5               10\n",
            "   years  developmentCost  operationalCost  valueOfBenefits\n",
            "0      0              -75             0.00                0\n",
            "1      1                0            -0.01               10\n",
            "2      2                0            -0.01               10\n",
            "3      3                0            -0.01               10\n"
          ]
        }
      ]
    },
    {
      "cell_type": "code",
      "source": [
        "discountRate=0.15\n",
        "discountFactor=[0,0,0,0]\n",
        "for year in dataT['years']:\n",
        "  discountFactor[year]=1/math.pow((1+discountRate),year)\n",
        "\n",
        "dataT['discountFactor']=[round(num, 2) for num in discountFactor] #rounds each of the numbers in discountFactor to 2 decimal places\n",
        "print(dataT)\n",
        "\n",
        "#inhouse\n",
        "discountFactorI=[0,0,0,0]\n",
        "for year in dataI['years']:\n",
        "  discountFactorI[year]=1/math.pow((1+discountRate),year)\n",
        "\n",
        "dataI['discountFactor']=[round(num, 2) for num in discountFactorI] #rounds each of the numbers in discountFactor to 2 decimal places\n",
        "print(dataI)"
      ],
      "metadata": {
        "colab": {
          "base_uri": "https://localhost:8080/"
        },
        "id": "wjvSao5pugYQ",
        "outputId": "9c13c472-28de-4a8e-bb9f-9428c6bb00a8"
      },
      "execution_count": 9,
      "outputs": [
        {
          "output_type": "stream",
          "name": "stdout",
          "text": [
            "   years  developmentCost  operationalCost  valueOfBenefits  discountFactor\n",
            "0      0              -50             -0.5                0            1.00\n",
            "1      1                0             -0.5               10            0.87\n",
            "2      2                0             -0.5               10            0.76\n",
            "3      3                0             -0.5               10            0.66\n",
            "   years  developmentCost  operationalCost  valueOfBenefits  discountFactor\n",
            "0      0              -75             0.00                0            1.00\n",
            "1      1                0            -0.01               10            0.87\n",
            "2      2                0            -0.01               10            0.76\n",
            "3      3                0            -0.01               10            0.66\n"
          ]
        }
      ]
    },
    {
      "cell_type": "code",
      "source": [
        "#calc net benefit/cost for each\n",
        "NetBC = [0,0,0,0]\n",
        "for year in dataT['years']:\n",
        "  NetBC[year]=dataT['developmentCost'][year]+dataT['operationalCost'][year]+dataT['valueOfBenefits'][year]\n",
        "\n",
        "dataT['NetBC']=NetBC\n",
        "print(dataT)\n",
        "\n",
        "#inhouse\n",
        "NetBCI = [0,0,0,0]\n",
        "for year in dataI['years']:\n",
        "  NetBCI[year]=dataI['developmentCost'][year]+dataI['operationalCost'][year]+dataI['valueOfBenefits'][year]\n",
        "\n",
        "dataI['NetBC']=NetBCI\n",
        "print(dataI)"
      ],
      "metadata": {
        "colab": {
          "base_uri": "https://localhost:8080/"
        },
        "id": "oazCa8TlulS7",
        "outputId": "90e90bd9-36b7-49df-84ac-8fadfdf0803e"
      },
      "execution_count": 10,
      "outputs": [
        {
          "output_type": "stream",
          "name": "stdout",
          "text": [
            "   years  developmentCost  ...  discountFactor  NetBC\n",
            "0      0              -50  ...            1.00  -50.5\n",
            "1      1                0  ...            0.87    9.5\n",
            "2      2                0  ...            0.76    9.5\n",
            "3      3                0  ...            0.66    9.5\n",
            "\n",
            "[4 rows x 6 columns]\n",
            "   years  developmentCost  ...  discountFactor  NetBC\n",
            "0      0              -75  ...            1.00 -75.00\n",
            "1      1                0  ...            0.87   9.99\n",
            "2      2                0  ...            0.76   9.99\n",
            "3      3                0  ...            0.66   9.99\n",
            "\n",
            "[4 rows x 6 columns]\n"
          ]
        }
      ]
    },
    {
      "cell_type": "code",
      "source": [
        "#calc net present value\n",
        "NPV=[0,0,0,0]\n",
        "\n",
        "for year in dataT['years']:\n",
        "  NPV[year]=dataT['NetBC'][year]*dataT['discountFactor'][year]\n",
        "\n",
        "dataT['NPV']=[round(num, 2) for num in NPV]\n",
        "print(dataT)  \n",
        "\n",
        "#inhouse\n",
        "NPVI=[0,0,0,0]\n",
        "\n",
        "for year in dataI['years']:\n",
        "  NPVI[year]=dataI['NetBC'][year]*dataI['discountFactor'][year]\n",
        "\n",
        "dataI['NPV']=[round(num, 2) for num in NPVI]\n",
        "print(dataI)  "
      ],
      "metadata": {
        "colab": {
          "base_uri": "https://localhost:8080/"
        },
        "id": "pqv8eN9WupAq",
        "outputId": "2c344be0-85a3-46c1-aba3-d0a325862a0b"
      },
      "execution_count": 11,
      "outputs": [
        {
          "output_type": "stream",
          "name": "stdout",
          "text": [
            "   years  developmentCost  operationalCost  ...  discountFactor  NetBC    NPV\n",
            "0      0              -50             -0.5  ...            1.00  -50.5 -50.50\n",
            "1      1                0             -0.5  ...            0.87    9.5   8.26\n",
            "2      2                0             -0.5  ...            0.76    9.5   7.22\n",
            "3      3                0             -0.5  ...            0.66    9.5   6.27\n",
            "\n",
            "[4 rows x 7 columns]\n",
            "   years  developmentCost  operationalCost  ...  discountFactor  NetBC    NPV\n",
            "0      0              -75             0.00  ...            1.00 -75.00 -75.00\n",
            "1      1                0            -0.01  ...            0.87   9.99   8.69\n",
            "2      2                0            -0.01  ...            0.76   9.99   7.59\n",
            "3      3                0            -0.01  ...            0.66   9.99   6.59\n",
            "\n",
            "[4 rows x 7 columns]\n"
          ]
        }
      ]
    },
    {
      "cell_type": "code",
      "source": [
        "from google.colab import drive\n",
        "drive.mount('/content/drive')"
      ],
      "metadata": {
        "colab": {
          "base_uri": "https://localhost:8080/"
        },
        "id": "13Vt0hiXL2Ri",
        "outputId": "ac9911e0-8a18-450f-c994-e0d528a6bd55"
      },
      "execution_count": 2,
      "outputs": [
        {
          "output_type": "stream",
          "name": "stdout",
          "text": [
            "Mounted at /content/drive\n"
          ]
        }
      ]
    }
  ]
}