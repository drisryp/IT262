{
  "nbformat": 4,
  "nbformat_minor": 0,
  "metadata": {
    "colab": {
      "name": "RyanD_Lab3.ipynb",
      "provenance": [],
      "collapsed_sections": [],
      "authorship_tag": "ABX9TyON56cjNsDq9BIKhzzGi1SM",
      "include_colab_link": true
    },
    "kernelspec": {
      "name": "python3",
      "display_name": "Python 3"
    },
    "language_info": {
      "name": "python"
    }
  },
  "cells": [
    {
      "cell_type": "markdown",
      "metadata": {
        "id": "view-in-github",
        "colab_type": "text"
      },
      "source": [
        "<a href=\"https://colab.research.google.com/github/drisryp/IT262/blob/main/RyanD_Lab3.ipynb\" target=\"_parent\"><img src=\"https://colab.research.google.com/assets/colab-badge.svg\" alt=\"Open In Colab\"/></a>"
      ]
    },
    {
      "cell_type": "code",
      "execution_count": 64,
      "metadata": {
        "colab": {
          "base_uri": "https://localhost:8080/"
        },
        "id": "bx7jvL9ezHpS",
        "outputId": "ea63e26f-beca-4ccd-aafd-e610744fb6aa"
      },
      "outputs": [
        {
          "output_type": "stream",
          "name": "stdout",
          "text": [
            "Empty DataFrame\n",
            "Columns: [criteria, weight, ratingA, ratingB, scoreA, scoreB]\n",
            "Index: []\n",
            " \n",
            "Empty DataFrame\n",
            "Columns: [criteria, weight, Cake, Risotto, scoreCake, scoreRisotto]\n",
            "Index: []\n",
            "['1', '2', '3']\n"
          ]
        }
      ],
      "source": [
        "import pandas as pd\n",
        "import math\n",
        "\n",
        "#create a dataframe for our alternativee analysis matrix\n",
        "AA = pd.DataFrame(columns=['criteria','weight','ratingA','ratingB','scoreA','scoreB'])\n",
        "BB = pd.DataFrame(columns=['criteria','weight','Cake','Risotto','scoreCake','scoreRisotto']) #create a chart w/ the columns of weight, criteria, ratingA, etc\n",
        "print(AA)\n",
        "print(\" \")\n",
        "print(BB)\n",
        "\n",
        "#test2= []\n",
        "#for i in range(3):\n",
        " # test2.append(input(\"enter score: 4\"))\n",
        "\n",
        "print(test2)"
      ]
    },
    {
      "cell_type": "code",
      "source": [
        "#first step add a list of criteria\n",
        "AA['criteria']=['risk','ROI','customerSatisfaction','feasibility','startegicAlignment']\n",
        "\n",
        "\n",
        "BB['criteria']=['flavour','presentation','creativity'] #the criteria being evaluted are flavour, presentation, and creativity\n",
        "\n",
        "#print(BB['criteria'][0])\n",
        "\n",
        "#for i in range(4):\n",
        " # print(i)\n",
        "\n",
        "print(AA)\n",
        "print(\" \")\n",
        "print(BB)"
      ],
      "metadata": {
        "colab": {
          "base_uri": "https://localhost:8080/"
        },
        "id": "h24bKA5szezD",
        "outputId": "ba77c6bc-9e48-47f6-c73d-bd25eef0ea3e"
      },
      "execution_count": 65,
      "outputs": [
        {
          "output_type": "stream",
          "name": "stdout",
          "text": [
            "               criteria weight ratingA ratingB scoreA scoreB\n",
            "0                  risk    NaN     NaN     NaN    NaN    NaN\n",
            "1                   ROI    NaN     NaN     NaN    NaN    NaN\n",
            "2  customerSatisfaction    NaN     NaN     NaN    NaN    NaN\n",
            "3           feasibility    NaN     NaN     NaN    NaN    NaN\n",
            "4    startegicAlignment    NaN     NaN     NaN    NaN    NaN\n",
            " \n",
            "       criteria weight Cake Risotto scoreCake scoreRisotto\n",
            "0       flavour    NaN  NaN     NaN       NaN          NaN\n",
            "1  presentation    NaN  NaN     NaN       NaN          NaN\n",
            "2    creativity    NaN  NaN     NaN       NaN          NaN\n"
          ]
        }
      ]
    },
    {
      "cell_type": "code",
      "source": [
        "#second step: identify weights\n",
        "#weights show relative importance of each criterion\n",
        "#they must add up to 1 (100%) \n",
        "AA['weight']=[0.1,0.15,0.3,0.15,0.3]\n",
        "\n",
        "BB['weight']=[0.33, 0.14, 0.57] #flavour has a weight of 2, presentation has weight of 1, creativity has  weight of 3\n",
        "\n",
        "print(AA)\n",
        "print(\" \")\n",
        "print(BB)"
      ],
      "metadata": {
        "colab": {
          "base_uri": "https://localhost:8080/"
        },
        "id": "nQZcRiCfzvRf",
        "outputId": "30b3f9f1-2ff2-4205-aa5c-d9ff8a9b72d6"
      },
      "execution_count": 66,
      "outputs": [
        {
          "output_type": "stream",
          "name": "stdout",
          "text": [
            "               criteria  weight ratingA ratingB scoreA scoreB\n",
            "0                  risk    0.10     NaN     NaN    NaN    NaN\n",
            "1                   ROI    0.15     NaN     NaN    NaN    NaN\n",
            "2  customerSatisfaction    0.30     NaN     NaN    NaN    NaN\n",
            "3           feasibility    0.15     NaN     NaN    NaN    NaN\n",
            "4    startegicAlignment    0.30     NaN     NaN    NaN    NaN\n",
            " \n",
            "       criteria  weight Cake Risotto scoreCake scoreRisotto\n",
            "0       flavour    0.33  NaN     NaN       NaN          NaN\n",
            "1  presentation    0.14  NaN     NaN       NaN          NaN\n",
            "2    creativity    0.57  NaN     NaN       NaN          NaN\n"
          ]
        }
      ]
    },
    {
      "cell_type": "code",
      "source": [
        "#steps 3: rate each alternative across all criteria\n",
        "#choose a scale: (1-5 or 1-10 ... etc)\n",
        "#higher number:  (generally) mmeans an alternative is better\n",
        "\n",
        "AA['ratingA']=[4,1,2,1,5]\n",
        "AA['ratingB']=[3,4,2,3,2]\n",
        "\n",
        "\n",
        "#BB['Cake']=[4,3,1] #assigns for score cake got in each criteria\n",
        "#BB['Risotto']=[5,2,3]\n",
        "\n",
        "#BB['Cake']=[]\n",
        "#BB['Risotto']=[]\n",
        "\n",
        "CakeRating =[]\n",
        "RisottoRating = []\n",
        "\n",
        "\n",
        "for i in range(3):\n",
        "  CakeRating.append(int(input(\"Enter Rating for Cake for \"+BB['criteria'][i]+\": \")))\n",
        "  RisottoRating.append(int(input(\"Enter Rating for Risotto for \"+BB['criteria'][i]+\": \")))\n",
        "\n",
        "BB['Cake']=CakeRating\n",
        "BB['Risotto'] = RisottoRating\n",
        "\n",
        "#step 4: calculate partial scores by multiplying weight *ratings\n",
        "for index, row in AA.iterrows():\n",
        "  AA['scoreA'][index]=row['ratingA']*row['weight']\n",
        "  AA['scoreB'][index]=row['ratingB']*row['weight']\n",
        "\n",
        "for index, row in BB.iterrows(): #goes through each criteria and multiples the rating with the weight\n",
        "  #print(index) index presents the criteria\n",
        "  #print(row) row represents the items being tested\n",
        "  BB['scoreCake'][index]=row['Cake']*row['weight'] \n",
        "  BB['scoreRisotto'][index]=row['Risotto']*row['weight']\n",
        "\n",
        "print(AA)\n",
        "print(\" \")\n",
        "print(BB)"
      ],
      "metadata": {
        "colab": {
          "base_uri": "https://localhost:8080/"
        },
        "id": "5eQ0EEA50F9n",
        "outputId": "f55021cc-3f2a-4a44-a176-4822e32854fb"
      },
      "execution_count": 67,
      "outputs": [
        {
          "output_type": "stream",
          "name": "stdout",
          "text": [
            "Enter Rating for Cake for flavour: 1\n",
            "Enter Rating for Risotto for flavour: 1\n",
            "Enter Rating for Cake for presentation: 2\n",
            "Enter Rating for Risotto for presentation: 2\n",
            "Enter Rating for Cake for creativity: 3\n",
            "Enter Rating for Risotto for creativity: 3\n",
            "               criteria  weight  ratingA  ratingB scoreA scoreB\n",
            "0                  risk    0.10        4        3    0.4    0.3\n",
            "1                   ROI    0.15        1        4   0.15    0.6\n",
            "2  customerSatisfaction    0.30        2        2    0.6    0.6\n",
            "3           feasibility    0.15        1        3   0.15   0.45\n",
            "4    startegicAlignment    0.30        5        2    1.5    0.6\n",
            " \n",
            "       criteria  weight  Cake  Risotto scoreCake scoreRisotto\n",
            "0       flavour    0.33     1        1      0.33         0.33\n",
            "1  presentation    0.14     2        2      0.28         0.28\n",
            "2    creativity    0.57     3        3      1.71         1.71\n"
          ]
        },
        {
          "output_type": "stream",
          "name": "stderr",
          "text": [
            "/usr/local/lib/python3.7/dist-packages/ipykernel_launcher.py:28: SettingWithCopyWarning: \n",
            "A value is trying to be set on a copy of a slice from a DataFrame\n",
            "\n",
            "See the caveats in the documentation: https://pandas.pydata.org/pandas-docs/stable/user_guide/indexing.html#returning-a-view-versus-a-copy\n",
            "/usr/local/lib/python3.7/dist-packages/ipykernel_launcher.py:29: SettingWithCopyWarning: \n",
            "A value is trying to be set on a copy of a slice from a DataFrame\n",
            "\n",
            "See the caveats in the documentation: https://pandas.pydata.org/pandas-docs/stable/user_guide/indexing.html#returning-a-view-versus-a-copy\n",
            "/usr/local/lib/python3.7/dist-packages/ipykernel_launcher.py:34: SettingWithCopyWarning: \n",
            "A value is trying to be set on a copy of a slice from a DataFrame\n",
            "\n",
            "See the caveats in the documentation: https://pandas.pydata.org/pandas-docs/stable/user_guide/indexing.html#returning-a-view-versus-a-copy\n",
            "/usr/local/lib/python3.7/dist-packages/ipykernel_launcher.py:35: SettingWithCopyWarning: \n",
            "A value is trying to be set on a copy of a slice from a DataFrame\n",
            "\n",
            "See the caveats in the documentation: https://pandas.pydata.org/pandas-docs/stable/user_guide/indexing.html#returning-a-view-versus-a-copy\n"
          ]
        }
      ]
    },
    {
      "cell_type": "code",
      "source": [
        "#step 5: add partial scores to get the total scores\n",
        "#which solution is the winner? the one with the highest total score\n",
        "totalScoreAA=0\n",
        "totalScoreAB=0\n",
        "\n",
        "totalScoreCake=0\n",
        "totalScoreRisotto=0\n",
        "\n",
        "for index, row in AA.iterrows():\n",
        "  totalScoreAA+=row['scoreA']\n",
        "  totalScoreAB+=row['scoreB']\n",
        "\n",
        "for index, row in BB.iterrows(): #adds all the scores in the score column\n",
        "  totalScoreCake+=row['scoreCake']\n",
        "  totalScoreRisotto+=row['scoreRisotto']\n",
        "\n",
        "\n",
        "print('The total score for A is %0.2f and for B is %0.2f.'%(totalScoreAA, totalScoreAB))\n",
        "\n",
        "print('The total score for Cake is %0.2f and for Risotto is %0.2f.'%(totalScoreCake, totalScoreRisotto)) #prints the totalScores the % represent a place holder the .2f is number of decimals to round to, and the %(var, var2) represents\n",
        "#which vars to substitue for which % in the print statement.\n"
      ],
      "metadata": {
        "colab": {
          "base_uri": "https://localhost:8080/"
        },
        "id": "R8y1TU4R0wq2",
        "outputId": "72385137-8584-4c70-8119-cd5e0c7e5e9f"
      },
      "execution_count": 68,
      "outputs": [
        {
          "output_type": "stream",
          "name": "stdout",
          "text": [
            "The total score for A is 2.80 and for B is 2.55.\n",
            "The total score for Cake is 2.32 and for Risotto is 2.32.\n"
          ]
        }
      ]
    }
  ]
}