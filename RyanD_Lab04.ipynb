{
  "nbformat": 4,
  "nbformat_minor": 0,
  "metadata": {
    "colab": {
      "name": "RyanD_Lab04.ipynb",
      "provenance": [],
      "authorship_tag": "ABX9TyPC5i0hH/5whIHWkWhor+C9",
      "include_colab_link": true
    },
    "kernelspec": {
      "name": "python3",
      "display_name": "Python 3"
    },
    "language_info": {
      "name": "python"
    }
  },
  "cells": [
    {
      "cell_type": "markdown",
      "metadata": {
        "id": "view-in-github",
        "colab_type": "text"
      },
      "source": [
        "<a href=\"https://colab.research.google.com/github/drisryp/IT262/blob/main/RyanD_Lab04.ipynb\" target=\"_parent\"><img src=\"https://colab.research.google.com/assets/colab-badge.svg\" alt=\"Open In Colab\"/></a>"
      ]
    },
    {
      "cell_type": "code",
      "execution_count": null,
      "metadata": {
        "colab": {
          "base_uri": "https://localhost:8080/"
        },
        "id": "DHY4TMF5Xu8U",
        "outputId": "92d64728-4071-4c8c-e713-dc2edda70aae"
      },
      "outputs": [
        {
          "output_type": "stream",
          "name": "stdout",
          "text": [
            "Enter columns for the heatmap: 1\n",
            "Enter columns for the heatmap: 2\n",
            "Enter columns for the heatmap: 3\n",
            "Enter columns for the heatmap: 4\n",
            "['1', '2', '3', '4']\n"
          ]
        }
      ],
      "source": [
        "import seaborn as sns\n",
        "import pandas as pd\n",
        "import numpy as np\n",
        "\n",
        "columns=[]\n",
        "\n",
        "for i in range(4):\n",
        "  columns.append(input(\"Enter columns for the heatmap: \"))\n",
        "\n",
        "print(columns)\n",
        "#create a dataframe (data table)\n",
        "df = pd.DataFrame(columns=['risks','likelihood','impact','score'])\n",
        "#assigns the columns to assign the values to later i.e. risk column we later assign the what risks we are dealing w/\n",
        "tf = pd.DataFrame(columns=['test1','test2','test3','test4'])\n",
        "\n",
        "nf =pd.DataFrame(columns=columns)"
      ]
    },
    {
      "cell_type": "code",
      "source": [
        "#identifies the risks you want to graph\n",
        "df['risk']=['users','team','budget','security']\n",
        "\n",
        "df['likelihood'] = [0.2,0.3,0.1,0.5]\n",
        "df['impact']=[1,2,7,10]\n",
        "\n",
        "df['score']=df['impact']*df['likelihood']\n",
        "\n",
        "\n",
        "tf['test1'] = ['cheese','bread','toast'] #risk\n",
        "\n",
        "#closer to 1 = more likely\n",
        "tf['test2'] = [0.25,0.3,0.5] #likelihood\n",
        "#higher score = more impact = bad\n",
        "tf['test3'] = [8,3,10] #impact\n",
        "\n",
        "tf['test4'] = tf['test2']*tf['test3'] #calc score\n",
        "\n",
        "numRisks = int(input(\"How many risks do you want to enter: \"))\n",
        "risks = []\n",
        "for i in range(numRisks):\n",
        "  risks.append(input(\"Enter a risk: \"))\n",
        "\n",
        "likelihood = []\n",
        "for i in range(numRisks):\n",
        "  likelihood.append(input(\"Enter the likelihoods: \"))\n",
        "\n",
        "impact = []\n",
        "for i in range(numRisks):\n",
        "  impact.append(input(\"Enter the impacts: \"))\n",
        "\n",
        "\n",
        "\n"
      ],
      "metadata": {
        "id": "tdQk8-agYzmW"
      },
      "execution_count": null,
      "outputs": []
    },
    {
      "cell_type": "code",
      "source": [
        "scoresPivot=df.pivot('impact','likelihood','score')\n",
        "print(scoresPivot)\n",
        "\n",
        "labelsPivot=df.pivot('impact','likelihood','risk')\n",
        "print(labelsPivot)\n",
        "\n",
        "#replaces no labels with empty strings\n",
        "labelsPivot.fillna('',inplace=True)\n",
        "\n",
        "#simple heatmap    values     colors  labeling of the value, string formatting (need if annotating)\n",
        "#p1=sns.heatmap(scoresPivot, cmap=\"BuPu\", annot=labelsPivot, fmt='')\n",
        "\n",
        "#.pivot(index,columns,values)\n",
        "tfscoresPivot = tf.pivot('test2','test3','test4')\n",
        "print(tfscoresPivot)\n",
        "\n",
        "tflabelsPivot =tf.pivot('test2','test3','test1')\n",
        "print(tflabelsPivot)\n",
        "\n",
        "p2=sns.heatmap(tfscoresPivot, cmap='BuPu', annot=tflabelsPivot, fmt='')\n",
        "\n",
        "\n",
        "\n"
      ],
      "metadata": {
        "colab": {
          "base_uri": "https://localhost:8080/",
          "height": 665
        },
        "id": "_jIwR4IhZnEG",
        "outputId": "a99ecbfd-3c96-4244-a82e-e4bbfb992c97"
      },
      "execution_count": null,
      "outputs": [
        {
          "output_type": "stream",
          "name": "stdout",
          "text": [
            "likelihood  0.1  0.2  0.3  0.5\n",
            "impact                        \n",
            "1           NaN  0.2  NaN  NaN\n",
            "2           NaN  NaN  0.6  NaN\n",
            "7           0.7  NaN  NaN  NaN\n",
            "10          NaN  NaN  NaN  5.0\n",
            "likelihood     0.1    0.2   0.3       0.5\n",
            "impact                                   \n",
            "1              NaN  users   NaN       NaN\n",
            "2              NaN    NaN  team       NaN\n",
            "7           budget    NaN   NaN       NaN\n",
            "10             NaN    NaN   NaN  security\n",
            "test3   3    8    10\n",
            "test2               \n",
            "0.25   NaN  2.0  NaN\n",
            "0.30   0.9  NaN  NaN\n",
            "0.50   NaN  NaN  5.0\n",
            "test3     3       8      10\n",
            "test2                      \n",
            "0.25     NaN  cheese    NaN\n",
            "0.30   bread     NaN    NaN\n",
            "0.50     NaN     NaN  toast\n"
          ]
        },
        {
          "output_type": "display_data",
          "data": {
            "image/png": "[encoded data removed]",
            "text/plain": [
              "<Figure size 432x288 with 2 Axes>"
            ]
          },
          "metadata": {
            "needs_background": "light"
          }
        }
      ]
    }
  ]
}